{
 "cells": [
  {
   "cell_type": "code",
   "execution_count": 23,
   "metadata": {},
   "outputs": [],
   "source": [
    "# build mapping \n",
    "# Note that we are playing with  mod 26\n",
    "char_to_ind = {chr(ord('a')+i):i for i in range(26)}\n",
    "ind_to_char = {v:k for k,v in char_to_ind.items()}"
   ]
  },
  {
   "cell_type": "code",
   "execution_count": 100,
   "metadata": {},
   "outputs": [],
   "source": [
    "import os\n",
    "from collections import Counter\n",
    "def process(readfilename):\n",
    "    '''\n",
    "    Takes in a text file and returns lower cased, only alphabets , and saves to a temp location.\n",
    "    '''\n",
    "    readfile = open(readfilename)\n",
    "    writefilename = \"clean\"+readfilename\n",
    "    writefile = open(writefilename,'w')\n",
    "    for line in readfile:\n",
    "        filtered = ''.join(list(filter(lambda c:c in ['\\t','\\n', ' '] or c.isalpha(), line))).lower()\n",
    "        writefile.write(filtered)\n",
    "    writefile.close()\n",
    "    readfile.close()\n",
    "    return writefilename\n",
    "\n",
    "def encrypt(readfilename, ind, writefilename = \"\"):\n",
    "    '''\n",
    "    shifts the file chars to given inds \n",
    "    '''\n",
    "    readfile = open(readfilename)\n",
    "    if not writefilename: \n",
    "        writefilename = 'encrypted'+readfilename\n",
    "    writefile = open(writefilename,'w')\n",
    "    for line in readfile:\n",
    "        encyphered = ''.join(list(map(lambda c: ind_to_char[(char_to_ind[c]+(ind-1))%26] if c.isalpha() else c, line)))\n",
    "        writefile.write(encyphered)\n",
    "    readfile.close()\n",
    "    writefile.close()\n",
    "    return writefilename\n",
    "def decrypt(readfilename, ind, writefilename = \"\"):\n",
    "    '''\n",
    "    takes a file, and shifts it to the given ind , deletes tmpfile \n",
    "    '''\n",
    "    #decypher \n",
    "    if not writefilename:\n",
    "        writefilename = 'result'+readfilename\n",
    "    writefile = open(writefilename,'w')\n",
    "    readfile = open(readfilename)\n",
    "    for line in readfile:\n",
    "        decyphered = ''.join(list(map(lambda c: ind_to_char[(char_to_ind[c]-(ind-1))%26] if c.isalpha() else c, line)))\n",
    "        writefile.write(decyphered)\n",
    "    readfile.close()\n",
    "    writefile.close()\n",
    "    return writefilename\n",
    "\n",
    "def do_encrypt(readfilename, ind):\n",
    "    '''\n",
    "    give in the input text file and index to shift -- starting form 1, this function would clean the file to a-z only and decrypt it \n",
    "    '''\n",
    "    cleanfilename = process(readfilename)\n",
    "    encryptedfilename = encrypt(cleanfilename, ind)\n",
    "    os.remove(cleanfilename)\n",
    "    return encryptedfilename\n",
    "\n",
    "def histogram(readfilename):\n",
    "    readfile = open(readfilename)\n",
    "    counts = Counter()\n",
    "    for line in readfile:\n",
    "        counts.update(Counter(line))\n",
    "    readfile.close()\n",
    "    try:\n",
    "        del counts[' ']\n",
    "        del counts['\\t']\n",
    "        del counts['\\n']\n",
    "    except:\n",
    "        pass \n",
    "    return counts\n",
    "def calculate_key(max_freq_letter, target_letter):\n",
    "    key = char_to_ind[target_letter]-char_to_ind[max_freq_letter]\n",
    "    if key < 0:\n",
    "        key += 26\n",
    "    return key \n",
    "def guess_key(readfilename):\n",
    "    # Just incase it is not cleaned.\n",
    "    cleanfilename = process(readfilename)\n",
    "    hist = histogram(cleanfilename)\n",
    "    most_common_char = hist.most_common(1)[0][0]\n",
    "    # print(most_common_char)\n",
    "    # English has 'e','t','o' as most common characters \n",
    "    # create three files with the most common character mapped to 'e','t','o' respectively\n",
    "    key = calculate_key(most_common_char,'e')+1 \n",
    "    # make sure, it is indeed the case \n",
    "    print (most_common_char,'-->', ind_to_char[(char_to_ind[most_common_char]+key-1)%26])\n",
    "    print(encrypt(cleanfilename,key,'e_'+readfilename))"
   ]
  },
  {
   "cell_type": "code",
   "execution_count": 101,
   "metadata": {},
   "outputs": [],
   "source": [
    "encryptfilename = do_encrypt('test.txt', 7)"
   ]
  },
  {
   "cell_type": "code",
   "execution_count": 102,
   "metadata": {},
   "outputs": [
    {
     "name": "stdout",
     "output_type": "stream",
     "text": [
      "o --> e\n"
     ]
    }
   ],
   "source": [
    "guess_key(encryptfilename)"
   ]
  },
  {
   "cell_type": "code",
   "execution_count": 56,
   "metadata": {},
   "outputs": [
    {
     "ename": "NameError",
     "evalue": "name 'o' is not defined",
     "output_type": "error",
     "traceback": [
      "\u001b[0;31m---------------------------------------------------------------------------\u001b[0m",
      "\u001b[0;31mNameError\u001b[0m                                 Traceback (most recent call last)",
      "\u001b[0;32m<ipython-input-56-496035041dc9>\u001b[0m in \u001b[0;36m<module>\u001b[0;34m\u001b[0m\n\u001b[0;32m----> 1\u001b[0;31m \u001b[0mord\u001b[0m\u001b[0;34m(\u001b[0m\u001b[0mo\u001b[0m\u001b[0;34m)\u001b[0m\u001b[0;34m\u001b[0m\u001b[0;34m\u001b[0m\u001b[0m\n\u001b[0m",
      "\u001b[0;31mNameError\u001b[0m: name 'o' is not defined"
     ]
    }
   ],
   "source": [
    "ord(o)"
   ]
  },
  {
   "cell_type": "code",
   "execution_count": 76,
   "metadata": {},
   "outputs": [
    {
     "data": {
      "text/plain": [
       "10"
      ]
     },
     "execution_count": 76,
     "metadata": {},
     "output_type": "execute_result"
    }
   ],
   "source": [
    "(char_to_ind['o']+26 - char_to_ind['e'])%26"
   ]
  },
  {
   "cell_type": "code",
   "execution_count": 84,
   "metadata": {},
   "outputs": [
    {
     "data": {
      "text/plain": [
       "'q'"
      ]
     },
     "execution_count": 84,
     "metadata": {},
     "output_type": "execute_result"
    }
   ],
   "source": [
    "ind_to_char[(-char_to_ind['o']+char_to_ind['e']+26)%26]"
   ]
  },
  {
   "cell_type": "code",
   "execution_count": 78,
   "metadata": {},
   "outputs": [
    {
     "data": {
      "text/plain": [
       "31"
      ]
     },
     "execution_count": 78,
     "metadata": {},
     "output_type": "execute_result"
    }
   ],
   "source": [
    "5+26"
   ]
  },
  {
   "cell_type": "code",
   "execution_count": 85,
   "metadata": {},
   "outputs": [
    {
     "data": {
      "text/plain": [
       "16"
      ]
     },
     "execution_count": 85,
     "metadata": {},
     "output_type": "execute_result"
    }
   ],
   "source": [
    "30-14\n"
   ]
  },
  {
   "cell_type": "code",
   "execution_count": 81,
   "metadata": {},
   "outputs": [
    {
     "data": {
      "text/plain": [
       "14"
      ]
     },
     "execution_count": 81,
     "metadata": {},
     "output_type": "execute_result"
    }
   ],
   "source": [
    "char_to_ind['o']"
   ]
  },
  {
   "cell_type": "code",
   "execution_count": 82,
   "metadata": {},
   "outputs": [
    {
     "data": {
      "text/plain": [
       "4"
      ]
     },
     "execution_count": 82,
     "metadata": {},
     "output_type": "execute_result"
    }
   ],
   "source": [
    "char_to_ind['e']"
   ]
  },
  {
   "cell_type": "code",
   "execution_count": 87,
   "metadata": {},
   "outputs": [
    {
     "data": {
      "text/plain": [
       "4"
      ]
     },
     "execution_count": 87,
     "metadata": {},
     "output_type": "execute_result"
    }
   ],
   "source": [
    "(16+14)%26\n"
   ]
  },
  {
   "cell_type": "code",
   "execution_count": null,
   "metadata": {},
   "outputs": [],
   "source": []
  }
 ],
 "metadata": {
  "kernelspec": {
   "display_name": "Python 3",
   "language": "python",
   "name": "python3"
  },
  "language_info": {
   "codemirror_mode": {
    "name": "ipython",
    "version": 3
   },
   "file_extension": ".py",
   "mimetype": "text/x-python",
   "name": "python",
   "nbconvert_exporter": "python",
   "pygments_lexer": "ipython3",
   "version": "3.7.3"
  }
 },
 "nbformat": 4,
 "nbformat_minor": 2
}
