{
 "cells": [
  {
   "cell_type": "code",
   "execution_count": 1,
   "metadata": {},
   "outputs": [],
   "source": [
    "# build mapping \n",
    "# Note that we are playing with  mod 26\n",
    "from collections import Counter\n",
    "char_to_ind = {chr(ord('a')+i):i for i in range(26)}\n",
    "ind_to_char = {v:k for k,v in char_to_ind.items()}"
   ]
  },
  {
   "cell_type": "code",
   "execution_count": 2,
   "metadata": {},
   "outputs": [],
   "source": [
    "def process(readfilename):\n",
    "    '''\n",
    "    Takes in a text file and returns lower cased, only alphabets , and saves to a temp location.\n",
    "    '''\n",
    "    readfile = open(readfilename)\n",
    "    corpus = []\n",
    "    for line in readfile:\n",
    "        filtered = ''.join(list(filter(lambda c:c in ['\\t','\\n', ' '] or c.isalpha(), line))).lower()\n",
    "        corpus.append(filtered)\n",
    "    readfile.close()\n",
    "    return corpus"
   ]
  },
  {
   "cell_type": "code",
   "execution_count": 3,
   "metadata": {},
   "outputs": [],
   "source": [
    "def encrypt(corpus, ind):\n",
    "    '''\n",
    "    shifts the file chars to given inds \n",
    "    '''\n",
    "    encrypt = [] \n",
    "    for line in corpus:\n",
    "        encyphered = ''.join(list(map(lambda c: ind_to_char[(char_to_ind[c]+(ind-1))%26] if c.isalpha() else c, line)))\n",
    "        encrypt.append(encyphered)\n",
    "    return encrypt"
   ]
  },
  {
   "cell_type": "code",
   "execution_count": 45,
   "metadata": {},
   "outputs": [
    {
     "data": {
      "text/plain": [
       "['znkxk cgy g hue gz uax yinuur ck aykj zu igrr nos ygtjluxj gtj skxzut  \\n',\n",
       " 'noy xkgr tgsk cgy yzobbotmy  nk cgy znk suyz kdzxguxjotgxe rgj o kbkx \\n',\n",
       " 'igsk gixuyy  o hkrokbk nk xkgrre roqkj yzaje  nk aykj zu mkz otzu gclar \\n',\n",
       " 'xucy lux yozzotm av ot hkj gtj xkgjotm mxkkq gtj gy lux lxktin oxxkmargx \\n',\n",
       " 'bkxhy znkxk cgy yosvre tu qkkvotm nos gcge lxus znks  nk cgy larr ul \\n',\n",
       " 'ckoxj gtj attgzaxgr tuzouty ghuaz hkotm g ixkjoz zu noy vgxktzy gtj gt \\n',\n",
       " 'nutuax zu znk yinuur gtj nk ekgxtkj zu cot vxofky gtj mxuc av gtj hk g \\n',\n",
       " 'irkbkx sgt gtj ngj grr znuyk yuxzy ul ckgqsotjkj ojkgy  o tkbkx qtkc \\n',\n",
       " 'yain g yzxgtmk ixkgzaxk ekz ngxsrkyy sotj eua gy znk hghk athuxt\\n',\n",
       " '\\n',\n",
       " 'ckrr zngz hue aykj zu mkz orr ghuaz zcoik g ckkq yu zngz nk iuarjtz mu \\n',\n",
       " 'zu yinuur  znkxk tkbkx cgy yain g hue zu mkz orr gy zngz ygtjluxj gtj \\n',\n",
       " 'skxzut  ol znkxk cgy gte qtuct joykgyk muotm coznot zkt sorky ul nos nk \\n',\n",
       " 'ngj oz gtj ngj oz hgjre  nk cuarj zgqk hxutinozoy ot znk jumjgey gtj \\n',\n",
       " 'ngbk ngelkbkx gz inxoyzsgy  glzkx g yod ckkqy vkxouj ul jxuamnz nk \\n',\n",
       " 'cuarj hk yzxoiqkt juct cozn xnkasgzoi lkbkx gtj nk cuarj mu uaz ot g \\n',\n",
       " 'tubkshkx lum gtj iusk nusk cozn g yatyzxuqk\\n',\n",
       " '\\n',\n",
       " 'znke vaz nos atjkx rgamnotmmgy utk ekgx vuux rgj gtj jxkc grr noy \\n',\n",
       " 'zkkzn gtj mgbk nos g lgryk ykz hkigayk nk yallkxkj yu zkxxohre cozn \\n',\n",
       " 'zuuzngink gtj znkt oz zaxtkj zu tkaxgrmog gtj kgxgink  nk cgy tkbkx \\n',\n",
       " 'coznuaz g iurj kdikvz utik lux totk ckkqy cnork nk ngj yigxrkz lkbkx \\n',\n",
       " 'gtj nk grcgey ngj inorhrgoty  jaxotm znk mxkgz inurkxg yigxk ul  \\n',\n",
       " 'uax tkomnhuaxnuuj cgy yotmargxre lxkk lxus oz  znkxk cgy utre utk \\n',\n",
       " 'xkvazkj igyk ot znk cnurk vgxoyn zngz igyk cgy euatm yzobbotmy\\n',\n",
       " '\\n',\n",
       " 'nk ngj zu yzuv ot hkj cnkt nk cgy orr gtj kgz inoiqkt gtj iayzgxjy gtj \\n',\n",
       " 'nuznuayk mxgvky gtj nk cuarj rok znkxk gtj yuh hkigayk znke cuarjtz \\n',\n",
       " 'rkz nos ju rgzot kdkxioyky gtj zuuq noy mkxsgt mxgssgx gcge lxus nos\\n',\n",
       " '\\n',\n",
       " 'gtj ck uznkx huey cnu cuarj ngbk ygixoloikj zkt zkxsy ul uax yinuurrolk \\n',\n",
       " 'lux znk ygqk ul hkotm orr lux g jge gtj ngj tu jkyoxk cngzkbkx zu mobk \\n',\n",
       " 'uax vgxktzy gte kdiayk lux hkotm yzaiqav ghuaz ay iuarjtz igzin yu \\n',\n",
       " 'sain gy g yzoll tkiq  ck luurkj ghuaz ot jxgamnzy gtj oz joj ay muuj \\n',\n",
       " 'gtj lxkynktkj ay av gtj ck zuuq znotmy zu sgqk ay yoiq gtj znke sgjk ay \\n',\n",
       " 'lgz gtj mgbk ay gt gvvkzozk  tuznotm ck iuarj znotq ul ykkskj zu sgqk \\n',\n",
       " 'ay orr atzor znk nurojgey hkmgt  znkt ut znk hxkgqotmav jge ck igamnz \\n',\n",
       " 'iurjy gtj cnuuvotm iuamn gtj grr qotjy ul joyuxjkxy cnoin rgyzkj zorr \\n',\n",
       " 'znk zkxs xkiussktikj cnkt ot yvozk ul kbkxeznotm ck iuarj sgtukabxk zu \\n',\n",
       " 'znk iutzxgxe ck cuarj mkz yajjktre ckrr gmgot gtj hk hkzzkx zngt kbkx\\n',\n",
       " '\\n',\n",
       " 'yain oy rolk gtj ck gxk haz gy mxgyy zngz oy iaz juct gtj vaz otzu znk \\n',\n",
       " 'ubkt gtj hgqkj\\n',\n",
       " '\\n']"
      ]
     },
     "execution_count": 45,
     "metadata": {},
     "output_type": "execute_result"
    }
   ],
   "source": [
    "corpus = process('message1.txt')\n",
    "encript = encrypt(corpus, 7)\n",
    "encript"
   ]
  },
  {
   "cell_type": "raw",
   "metadata": {},
   "source": [
    "def do_encrypt(readfilename, ind, writefilename):\n",
    "    '''\n",
    "    give in the input text file and index to shift -- starting form 1, this function would clean the file to a-z only and decrypt it \n",
    "    '''\n",
    "    corpus = process(readfilename)\n",
    "    encript = encrypt(corpus, ind)\n",
    "    f = open(writefilename,'w')\n",
    "    for line in encrypt:\n",
    "        f.write(line)\n",
    "    f.close()\n",
    "    return encript"
   ]
  },
  {
   "cell_type": "code",
   "execution_count": 7,
   "metadata": {},
   "outputs": [],
   "source": [
    "def histogram(corpus):\n",
    "    counts = Counter()\n",
    "    for line in corpus:\n",
    "        counts.update(Counter(line))\n",
    "    try:\n",
    "        del counts[' ']\n",
    "        del counts['\\t']\n",
    "        del counts['\\n']\n",
    "    except:\n",
    "        pass \n",
    "    return counts "
   ]
  },
  {
   "cell_type": "code",
   "execution_count": 8,
   "metadata": {},
   "outputs": [],
   "source": [
    "def calculate_key(max_freq_letter, target_letter):\n",
    "    key = char_to_ind[target_letter]-char_to_ind[max_freq_letter]\n",
    "    if key < 0:\n",
    "        key += 26\n",
    "    return key "
   ]
  },
  {
   "cell_type": "code",
   "execution_count": 9,
   "metadata": {},
   "outputs": [],
   "source": [
    "readfilename = 'caesar1.txt'\n",
    "corpus = process(readfilename)\n",
    "hist = histogram(corpus)\n",
    "most_common_char = hist.most_common(1)[0][0]\n",
    "key = calculate_key(most_common_char,'e')+1 "
   ]
  },
  {
   "cell_type": "code",
   "execution_count": 10,
   "metadata": {},
   "outputs": [
    {
     "data": {
      "text/plain": [
       "['\\n',\n",
       " 'there was not a moment to be lost away went alice like the wind and\\n',\n",
       " 'was just in time to hear it say as it turned a corner oh my ears\\n',\n",
       " 'and whiskers how late its getting she was close behind it when she\\n',\n",
       " 'turned the corner but the rabbit was no longer to be seen she found\\n',\n",
       " 'herself in a long low hall which was lit up by a row of lamps hanging\\n',\n",
       " 'from the roof\\n',\n",
       " '\\n']"
      ]
     },
     "execution_count": 10,
     "metadata": {},
     "output_type": "execute_result"
    }
   ],
   "source": [
    "encrypt(corpus, key)"
   ]
  },
  {
   "cell_type": "code",
   "execution_count": 20,
   "metadata": {},
   "outputs": [
    {
     "name": "stdout",
     "output_type": "stream",
     "text": [
      "['\\n', '  alice was beginning to get very tired of sitting by her sister\\n', 'on the bank and of having nothing to do  once or twice she had\\n', 'peeped into the book her sister was reading but it had no\\n', 'pictures or conversations in it and what is the use of a book\\n', 'thought alice without pictures or conversation\\n', '\\n']\n"
     ]
    }
   ],
   "source": [
    "readfilename = 'caesar2.txt'\n",
    "corpus = process(readfilename)\n",
    "n = 12\n",
    "for _ in range(n):\n",
    "    corpus = encrypt(corpus, 0)\n",
    "print (corpus)"
   ]
  },
  {
   "cell_type": "code",
   "execution_count": 32,
   "metadata": {},
   "outputs": [
    {
     "name": "stdout",
     "output_type": "stream",
     "text": [
      "['\\n', '  alice was beginning to get very tired of sitting by her sister\\n', 'on the bank and of having nothing to do  once or twice she had\\n', 'peeped into the book her sister was reading but it had no\\n', 'pictures or conversations in it and what is the use of a book\\n', 'thought alice without pictures or conversation\\n', '\\n']\n"
     ]
    }
   ],
   "source": [
    "n = 7\n",
    "for _ in range(n):\n",
    "    corpus = encrypt(corpus, 4)\n",
    "print (corpus)"
   ]
  },
  {
   "cell_type": "code",
   "execution_count": 44,
   "metadata": {},
   "outputs": [
    {
     "name": "stdout",
     "output_type": "stream",
     "text": [
      "['\\n', '  alice was beginning to get very tired of sitting by her sister\\n', 'on the bank and of having nothing to do  once or twice she had\\n', 'peeped into the book her sister was reading but it had no\\n', 'pictures or conversations in it and what is the use of a book\\n', 'thought alice without pictures or conversation\\n', '\\n']\n"
     ]
    }
   ],
   "source": [
    "n = 12\n",
    "for _ in range(n):\n",
    "    corpus = encrypt(corpus, 10)\n",
    "print (corpus)"
   ]
  }
 ],
 "metadata": {
  "kernelspec": {
   "display_name": "Python 3",
   "language": "python",
   "name": "python3"
  },
  "language_info": {
   "codemirror_mode": {
    "name": "ipython",
    "version": 3
   },
   "file_extension": ".py",
   "mimetype": "text/x-python",
   "name": "python",
   "nbconvert_exporter": "python",
   "pygments_lexer": "ipython3",
   "version": "3.7.3"
  }
 },
 "nbformat": 4,
 "nbformat_minor": 2
}
